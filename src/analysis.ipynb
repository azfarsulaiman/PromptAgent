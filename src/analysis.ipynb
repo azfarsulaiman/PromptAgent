{
 "cells": [
  {
   "cell_type": "code",
   "execution_count": 1,
   "metadata": {},
   "outputs": [],
   "source": [
    "import json \n",
    "import os"
   ]
  },
  {
   "cell_type": "code",
   "execution_count": 2,
   "metadata": {},
   "outputs": [],
   "source": [
    "with open(\"/Users/azfar/Documents/MIT/FutureTech/FutureTech/Thesis/PromptAgent/datasets/penguins_in_a_table.json\", 'r') as f:\n",
    "    data_read = json.load(f) "
   ]
  },
  {
   "cell_type": "code",
   "execution_count": 5,
   "metadata": {},
   "outputs": [
    {
     "data": {
      "text/plain": [
       "149"
      ]
     },
     "execution_count": 5,
     "metadata": {},
     "output_type": "execute_result"
    }
   ],
   "source": [
    "len(data_read['examples'])"
   ]
  },
  {
   "cell_type": "code",
   "execution_count": 7,
   "metadata": {},
   "outputs": [
    {
     "data": {
      "text/plain": [
       "[{'input': 'What animals are listed in the table?',\n",
       "  'target_scores': {'bears': 0,\n",
       "   'crocodiles': 0,\n",
       "   'elephants': 0,\n",
       "   'giraffes': 0,\n",
       "   'penguins': 1},\n",
       "  'target': 'penguins'},\n",
       " {'input': 'What is the age of Bernard?',\n",
       "  'target_scores': {'7': 0, '5': 1, '9': 0, '8': 0, '12': 0},\n",
       "  'target': '5'},\n",
       " {'input': 'What is the height of Gwen?',\n",
       "  'target_scores': {'50': 0, '80': 0, '60': 0, '70': 1, '90': 0},\n",
       "  'target': '70'},\n",
       " {'input': 'What is the weight of Louis?',\n",
       "  'target_scores': {'11': 1, '13': 0, '15': 0, '12': 0},\n",
       "  'target': '11'},\n",
       " {'input': 'Which is the shortest penguin?',\n",
       "  'target_scores': {'Louis': 1,\n",
       "   'Bernard': 0,\n",
       "   'Vincent': 0,\n",
       "   'Gwen': 0,\n",
       "   'James': 0},\n",
       "  'target': 'Louis'},\n",
       " {'input': 'Which is the tallest penguin?',\n",
       "  'target_scores': {'Louis': 0,\n",
       "   'Bernard': 1,\n",
       "   'Vincent': 0,\n",
       "   'Gwen': 0,\n",
       "   'James': 0},\n",
       "  'target': 'Bernard'},\n",
       " {'input': 'Which is the youngest penguin?',\n",
       "  'target_scores': {'Louis': 0,\n",
       "   'Bernard': 1,\n",
       "   'Vincent': 0,\n",
       "   'Gwen': 0,\n",
       "   'James': 0},\n",
       "  'target': 'Bernard'},\n",
       " {'input': 'Which is the oldest penguin?',\n",
       "  'target_scores': {'Louis': 0,\n",
       "   'Bernard': 0,\n",
       "   'Vincent': 1,\n",
       "   'Gwen': 0,\n",
       "   'James': 0},\n",
       "  'target': 'Vincent'},\n",
       " {'input': 'Which is the heaviest penguin?',\n",
       "  'target_scores': {'Louis': 0,\n",
       "   'Bernard': 0,\n",
       "   'Vincent': 0,\n",
       "   'Gwen': 1,\n",
       "   'James': 0},\n",
       "  'target': 'Gwen'},\n",
       " {'input': 'Which is the second youngest penguin?',\n",
       "  'target_scores': {'Louis': 1,\n",
       "   'Bernard': 0,\n",
       "   'Vincent': 0,\n",
       "   'Gwen': 0,\n",
       "   'James': 0},\n",
       "  'target': 'Louis'}]"
      ]
     },
     "execution_count": 7,
     "metadata": {},
     "output_type": "execute_result"
    }
   ],
   "source": [
    "\n",
    "data_read['examples'][:10]"
   ]
  },
  {
   "cell_type": "code",
   "execution_count": null,
   "metadata": {},
   "outputs": [],
   "source": []
  },
  {
   "cell_type": "code",
   "execution_count": null,
   "metadata": {},
   "outputs": [],
   "source": []
  }
 ],
 "metadata": {
  "kernelspec": {
   "display_name": ".venv",
   "language": "python",
   "name": "python3"
  },
  "language_info": {
   "codemirror_mode": {
    "name": "ipython",
    "version": 3
   },
   "file_extension": ".py",
   "mimetype": "text/x-python",
   "name": "python",
   "nbconvert_exporter": "python",
   "pygments_lexer": "ipython3",
   "version": "3.12.0"
  }
 },
 "nbformat": 4,
 "nbformat_minor": 2
}
