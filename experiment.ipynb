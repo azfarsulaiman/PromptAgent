{
 "cells": [
  {
   "cell_type": "code",
   "execution_count": 1,
   "metadata": {},
   "outputs": [],
   "source": [
    "import json\n",
    "import os"
   ]
  },
  {
   "cell_type": "code",
   "execution_count": 2,
   "metadata": {},
   "outputs": [
    {
     "name": "stdout",
     "output_type": "stream",
     "text": [
      "bigbench_epistemic_75_50\n",
      "bigbench_penguins_in_a_table_52_50\n",
      "object_counting_90_50\n",
      "bigbench_penguins_in_a_table_17_50\n",
      "bigbench_geometric_shapes_37_50\n",
      "bigbench_geometric_shapes_112_50\n",
      "bigbench_causal_judgement_9_50\n",
      "object_counting_3_50\n",
      "bigbench_epistemic_375_50\n",
      ".DS_Store\n",
      "bigbench_epistemic_250_50\n",
      "bigbench_temporal_sequences_3_50\n",
      "bigbench_geometric_shapes_22_50\n",
      "bigbench_epistemic_25_50\n",
      "bigbench_temporal_sequences_150_50\n",
      "bigbench_geometric_shapes_7_50\n",
      "bigbench_epistemic_50_50\n",
      "bigbench_temporal_sequences_60_50\n",
      "bigbench_temporal_sequences_15_50\n",
      "bigbench_causal_judgement_45_50\n",
      "object_counting_150_50\n",
      "bigbench_temporal_sequences_75_50\n",
      "bigbench_temporal_sequences_30_50\n",
      "bigbench_epistemic_500_50\n",
      "bigbench_temporal_sequences_45_50\n",
      "bigbench_causal_judgement_67_50\n",
      "bigbench_causal_judgement_90_50\n",
      "object_counting_225_50\n",
      "object_counting_300_50\n",
      "bigbench_causal_judgement_22_50\n",
      "bigbench_temporal_sequences_90_50\n",
      "bigbench_causal_judgement_4_50\n",
      "bigbench_causal_judgement_0_50\n",
      "bigbench_causal_judgement_27_50\n",
      "bigbench_causal_judgement_13_50\n",
      "bigbench_penguins_in_a_table_3_50\n",
      "object_counting_30_50\n",
      "object_counting_45_50\n",
      "bigbench_causal_judgement_18_50\n",
      "bigbench_penguins_in_a_table_70_50\n",
      "bigbench_penguins_in_a_table_21_50\n",
      "bigbench_temporal_sequences_300_50\n",
      "bigbench_temporal_sequences_225_50\n",
      "bigbench_penguins_in_a_table_7_50\n",
      "bigbench_geometric_shapes_15_50\n",
      "bigbench_epistemic_150_50\n",
      "bigbench_penguins_in_a_table_35_50\n",
      "object_counting_75_50\n",
      "bigbench_epistemic_125_50\n",
      "bigbench_geometric_shapes_45_50\n",
      "bigbench_epistemic_5_50\n",
      "bigbench_epistemic_100_50\n",
      "bigbench_penguins_in_a_table_10_50\n",
      "bigbench_geometric_shapes_30_50\n",
      "bigbench_geometric_shapes_150_50\n",
      "bigbench_geometric_shapes_75_50\n",
      "object_counting_60_50\n",
      "bigbench_penguins_in_a_table_14_50\n",
      "object_counting_15_50\n",
      "bigbench_geometric_shapes_1_50\n"
     ]
    }
   ],
   "source": [
    "import os\n",
    "\n",
    "directory = '/Users/azfar/Documents/MIT/FutureTech/FutureTech/Thesis/PromptAgent/train_log'  # Replace with the actual directory path\n",
    "files = os.listdir(directory)\n",
    "for file in files:\n",
    "    print(file)"
   ]
  },
  {
   "cell_type": "code",
   "execution_count": 3,
   "metadata": {},
   "outputs": [],
   "source": [
    "optimized_prompts_dict = {}\n",
    "\n",
    "for file in files: \n",
    "    optimized_prompts_dict[file] = {\n",
    "        \"prompt\": \"\",\n",
    "        \"reward\": 0\n",
    "    }"
   ]
  },
  {
   "cell_type": "code",
   "execution_count": 6,
   "metadata": {},
   "outputs": [],
   "source": [
    "import json\n",
    "\n",
    "# Assuming the dictionary is stored in the variable 'optimized_prompts_dict'\n",
    "json_data = json.dumps(optimized_prompts_dict, indent=4)\n",
    "\n",
    "# Write the JSON data to a file\n",
    "with open('/Users/azfar/Documents/MIT/FutureTech/FutureTech/Thesis/PromptAgent/optimized_prompts_dict.json', 'w') as file:\n",
    "    file.write(json_data)\n"
   ]
  },
  {
   "cell_type": "code",
   "execution_count": null,
   "metadata": {},
   "outputs": [],
   "source": []
  }
 ],
 "metadata": {
  "kernelspec": {
   "display_name": ".venv",
   "language": "python",
   "name": "python3"
  },
  "language_info": {
   "codemirror_mode": {
    "name": "ipython",
    "version": 3
   },
   "file_extension": ".py",
   "mimetype": "text/x-python",
   "name": "python",
   "nbconvert_exporter": "python",
   "pygments_lexer": "ipython3",
   "version": "3.12.2"
  }
 },
 "nbformat": 4,
 "nbformat_minor": 2
}
